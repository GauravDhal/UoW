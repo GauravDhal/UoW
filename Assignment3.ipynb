{
 "cells": [
  {
   "cell_type": "markdown",
   "id": "d95148bf",
   "metadata": {},
   "source": [
    "# Drawing randomly"
   ]
  },
  {
   "cell_type": "code",
   "execution_count": 5,
   "id": "a2b7910d",
   "metadata": {},
   "outputs": [
    {
     "name": "stdout",
     "output_type": "stream",
     "text": [
      "[   2.    4.   10.   12.   14.   14.   20.   20.   20.   22.   22.   24.\n",
      "   24.   32.   32.   34.   34.   38.   44.   44.   50.   54.   58.   60.\n",
      "   60.   62.   64.   66.   70.   78.   82.   86.   90.   92.   96.   98.\n",
      "  100.  100.  100.  106.  108.  112.  114.  116.  120.  120.  120.  124.\n",
      "  128.  132.  132.  132.  134.  142.  142.  146.  148.  148.  150.  152.\n",
      "  156.  158.  166.  168.  168.  172.  172.  174.  176.  178.  178.  178.\n",
      "  178.  180.  180.  192.  198.  202.  208.  210.  218.  222.  224.  226.\n",
      "  232.  236.  238.  238.  248.  252.  254.  260.  262.  268.  268.  270.\n",
      "  274.  276.  276.  278.  282.  282.  282.  294.  296.  296.  300.  300.\n",
      "  304.  306.  308.  308.  314.  316.  322.  332.  336.  336.  340.  342.\n",
      "  344.  348.  352.  352.  360.  362.  366.  370.  370.  372.  372.  374.\n",
      "  380.  382.  394.  398.  404.  414.  422.  422.  442.  452.  454.  468.\n",
      "  468.  470.  480.  484.  486.  490.  496.  508.  510.  514.  518.  524.\n",
      "  536.  538.  544.  546.  562.  574.  600.  602.  602.  606.  620.  624.\n",
      "  628.  652.  670.  678.  718.  722.  730.  732.  742.  750.  760.  776.\n",
      "  784.  786.  796.  810.  816.  826.  840.  844.  854.  858.  860.  870.\n",
      "  884.  924. 1006. 1140. 1158. 1268. 1272. 1358.]\n"
     ]
    }
   ],
   "source": [
    "import numpy as np\n",
    "\n",
    "rng = np.random.default_rng()\n",
    "\n",
    "def hatGame():\n",
    "    hat = np.array( range(1,2025) )\n",
    "    #print(hat)\n",
    "    while(hat.size>=2):\n",
    "        x1,x2   = rng.integers(0,hat.size,size=2)\n",
    "        while(x1==x2):\n",
    "            x1,x2   = rng.integers(0,hat.size,size=2)\n",
    "        hat[x1] = abs(hat[x1]-hat[x2])\n",
    "        hat     = np.delete(hat,x2)\n",
    "        #print(hat)\n",
    "    return hat[0]\n",
    "\n",
    "trials=200\n",
    "results = np.empty(trials)\n",
    "for i in range(0,trials):\n",
    "    results[i]=hatGame()\n",
    "\n",
    "print(np.sort(results))"
   ]
  },
  {
   "cell_type": "code",
   "execution_count": null,
   "id": "a0d210d5",
   "metadata": {},
   "outputs": [],
   "source": []
  }
 ],
 "metadata": {
  "kernelspec": {
   "display_name": "Python 3 (ipykernel)",
   "language": "python",
   "name": "python3"
  },
  "language_info": {
   "codemirror_mode": {
    "name": "ipython",
    "version": 3
   },
   "file_extension": ".py",
   "mimetype": "text/x-python",
   "name": "python",
   "nbconvert_exporter": "python",
   "pygments_lexer": "ipython3",
   "version": "3.9.7"
  }
 },
 "nbformat": 4,
 "nbformat_minor": 5
}
